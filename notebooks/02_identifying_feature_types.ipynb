{
 "cells": [
  {
   "cell_type": "code",
   "execution_count": 7,
   "id": "f54bd186",
   "metadata": {},
   "outputs": [],
   "source": [
    "import pandas as pd"
   ]
  },
  {
   "cell_type": "code",
   "execution_count": 8,
   "id": "c45ec4dd",
   "metadata": {},
   "outputs": [
    {
     "name": "stdout",
     "output_type": "stream",
     "text": [
      "Ready for Feature Classification:\n",
      "  Training features: (8495, 18)\n",
      "  Features to classify: 18\n",
      "  Data integrity verified: ✅\n"
     ]
    }
   ],
   "source": [
    "fold1_X_train = pd.read_csv('data/processed/fold_1_X_train.csv')\n",
    "fold1_X_test = pd.read_csv('data/processed/fold_1_X_test.csv')  \n",
    "fold1_y_train = pd.read_csv('data/processed/fold_1_y_train.csv')\n",
    "fold1_y_test = pd.read_csv('data/processed/fold_1_y_test.csv')\n",
    "fold2_X_train = pd.read_csv('data/processed/fold_2_X_train.csv')\n",
    "fold2_X_test = pd.read_csv('data/processed/fold_2_X_test.csv')  \n",
    "fold2_y_train = pd.read_csv('data/processed/fold_2_y_train.csv')\n",
    "fold2_y_test = pd.read_csv('data/processed/fold_2_y_test.csv')\n",
    "\n",
    "print(\"Ready for Feature Classification:\")\n",
    "print(f\"  Training features: {fold1_X_train.shape}\")\n",
    "print(f\"  Features to classify: {len(fold1_X_train.columns)}\")\n",
    "print(f\"  Data integrity verified: ✅\")"
   ]
  },
  {
   "cell_type": "code",
   "execution_count": null,
   "id": "f7520b1f",
   "metadata": {},
   "outputs": [],
   "source": []
  }
 ],
 "metadata": {
  "kernelspec": {
   "display_name": "Python 3 (ipykernel)",
   "language": "python",
   "name": "python3"
  },
  "language_info": {
   "codemirror_mode": {
    "name": "ipython",
    "version": 3
   },
   "file_extension": ".py",
   "mimetype": "text/x-python",
   "name": "python",
   "nbconvert_exporter": "python",
   "pygments_lexer": "ipython3",
   "version": "3.13.4"
  }
 },
 "nbformat": 4,
 "nbformat_minor": 5
}
