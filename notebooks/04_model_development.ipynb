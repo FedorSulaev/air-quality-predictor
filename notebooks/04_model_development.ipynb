{
 "cells": [
  {
   "cell_type": "code",
   "execution_count": 112,
   "id": "69f83a26",
   "metadata": {},
   "outputs": [],
   "source": [
    "import pandas as pd\n",
    "import numpy as np\n",
    "from pathlib import Path\n",
    "from sklearn.pipeline import Pipeline\n",
    "from sklearn.linear_model import LinearRegression, Ridge, Lasso, RidgeCV, LassoCV\n",
    "from sklearn.metrics import mean_squared_error, r2_score, mean_absolute_error\n",
    "from sklearn.feature_selection import SelectKBest, f_regression, RFE\n",
    "from sklearn.model_selection import GridSearchCV, cross_val_score, learning_curve\n",
    "from sklearn.ensemble import RandomForestRegressor\n",
    "from sklearn.decomposition import PCA\n",
    "from matplotlib import pyplot as plt"
   ]
  },
  {
   "cell_type": "code",
   "execution_count": 113,
   "id": "e4a1db95",
   "metadata": {},
   "outputs": [
    {
     "name": "stdout",
     "output_type": "stream",
     "text": [
      "Reading fold 1:\n",
      "Reading fold 2:\n",
      "Ready for Feature Classification:\n",
      "  Training features: (8495, 10)\n",
      "  Features to classify: 10\n",
      "  Data integrity verified: ✅\n"
     ]
    }
   ],
   "source": [
    "in_dir = Path(\"data/processed/03\")\n",
    "folds = {}\n",
    "for i in range(1, 3):\n",
    "    print(f\"Reading fold {i}:\")\n",
    "    folds[f\"fold_{i}\"] = {\n",
    "        \"X_train\": pd.read_csv(f'{in_dir}/fold_{i}_X_train.csv'),\n",
    "        \"X_test\": pd.read_csv(f'{in_dir}/fold_{i}_X_test.csv'),\n",
    "        \"y_train\": pd.read_csv(f'{in_dir}/fold_{i}_y_train.csv').squeeze(),\n",
    "        \"y_test\": pd.read_csv(f'{in_dir}/fold_{i}_y_test.csv').squeeze()\n",
    "    }\n",
    "\n",
    "X_train = folds[\"fold_1\"][\"X_train\"];\n",
    "y_train = folds[\"fold_1\"][\"y_train\"];\n",
    "y_test = folds[\"fold_1\"][\"y_test\"];\n",
    "\n",
    "print(\"Ready for Feature Classification:\")\n",
    "print(f\"  Training features: {X_train.shape}\")\n",
    "print(f\"  Features to classify: {len(X_train.columns)}\")\n",
    "print(f\"  Data integrity verified: ✅\")"
   ]
  },
  {
   "cell_type": "code",
   "execution_count": 114,
   "id": "9179ad61",
   "metadata": {},
   "outputs": [
    {
     "data": {
      "text/html": [
       "<div>\n",
       "<style scoped>\n",
       "    .dataframe tbody tr th:only-of-type {\n",
       "        vertical-align: middle;\n",
       "    }\n",
       "\n",
       "    .dataframe tbody tr th {\n",
       "        vertical-align: top;\n",
       "    }\n",
       "\n",
       "    .dataframe thead th {\n",
       "        text-align: right;\n",
       "    }\n",
       "</style>\n",
       "<table border=\"1\" class=\"dataframe\">\n",
       "  <thead>\n",
       "    <tr style=\"text-align: right;\">\n",
       "      <th></th>\n",
       "      <th>num__temp_C</th>\n",
       "      <th>num__dewpoint_C</th>\n",
       "      <th>num__slp_hPa</th>\n",
       "      <th>num__wind_dir_deg</th>\n",
       "      <th>cat__sky_cover_0</th>\n",
       "      <th>cat__sky_cover_1</th>\n",
       "      <th>dt__dt__hour</th>\n",
       "      <th>dt__dt__dow</th>\n",
       "      <th>dt__dt__month</th>\n",
       "      <th>dt__dt__is_weekend</th>\n",
       "    </tr>\n",
       "  </thead>\n",
       "  <tbody>\n",
       "    <tr>\n",
       "      <th>count</th>\n",
       "      <td>8.495000e+03</td>\n",
       "      <td>8.495000e+03</td>\n",
       "      <td>8.495000e+03</td>\n",
       "      <td>8.495000e+03</td>\n",
       "      <td>8495.000000</td>\n",
       "      <td>8495.000000</td>\n",
       "      <td>8.495000e+03</td>\n",
       "      <td>8.495000e+03</td>\n",
       "      <td>8.495000e+03</td>\n",
       "      <td>8.495000e+03</td>\n",
       "    </tr>\n",
       "    <tr>\n",
       "      <th>mean</th>\n",
       "      <td>8.029677e-17</td>\n",
       "      <td>4.182123e-17</td>\n",
       "      <td>2.970980e-15</td>\n",
       "      <td>-7.360537e-17</td>\n",
       "      <td>0.780224</td>\n",
       "      <td>0.007416</td>\n",
       "      <td>-6.963235e-17</td>\n",
       "      <td>-8.029677e-17</td>\n",
       "      <td>-1.070624e-16</td>\n",
       "      <td>-6.942325e-17</td>\n",
       "    </tr>\n",
       "    <tr>\n",
       "      <th>std</th>\n",
       "      <td>1.000059e+00</td>\n",
       "      <td>1.000059e+00</td>\n",
       "      <td>1.000059e+00</td>\n",
       "      <td>1.000059e+00</td>\n",
       "      <td>0.414119</td>\n",
       "      <td>0.085802</td>\n",
       "      <td>1.000059e+00</td>\n",
       "      <td>1.000059e+00</td>\n",
       "      <td>1.000059e+00</td>\n",
       "      <td>1.000059e+00</td>\n",
       "    </tr>\n",
       "    <tr>\n",
       "      <th>min</th>\n",
       "      <td>-3.002637e+00</td>\n",
       "      <td>-3.394120e+00</td>\n",
       "      <td>-2.868419e+00</td>\n",
       "      <td>-1.846816e+00</td>\n",
       "      <td>0.000000</td>\n",
       "      <td>0.000000</td>\n",
       "      <td>-1.613084e+00</td>\n",
       "      <td>-1.502400e+00</td>\n",
       "      <td>-1.942616e+00</td>\n",
       "      <td>-6.379050e-01</td>\n",
       "    </tr>\n",
       "    <tr>\n",
       "      <th>25%</th>\n",
       "      <td>-8.337260e-01</td>\n",
       "      <td>-7.368357e-01</td>\n",
       "      <td>-6.852662e-01</td>\n",
       "      <td>-9.813172e-01</td>\n",
       "      <td>1.000000</td>\n",
       "      <td>0.000000</td>\n",
       "      <td>-9.011579e-01</td>\n",
       "      <td>-1.002874e+00</td>\n",
       "      <td>-7.208179e-01</td>\n",
       "      <td>-6.379050e-01</td>\n",
       "    </tr>\n",
       "    <tr>\n",
       "      <th>50%</th>\n",
       "      <td>-9.539888e-03</td>\n",
       "      <td>-2.088343e-02</td>\n",
       "      <td>-1.261662e-01</td>\n",
       "      <td>3.650139e-01</td>\n",
       "      <td>1.000000</td>\n",
       "      <td>0.000000</td>\n",
       "      <td>-4.684714e-02</td>\n",
       "      <td>-3.822154e-03</td>\n",
       "      <td>1.955309e-01</td>\n",
       "      <td>-6.379050e-01</td>\n",
       "    </tr>\n",
       "    <tr>\n",
       "      <th>75%</th>\n",
       "      <td>7.604234e-01</td>\n",
       "      <td>8.327520e-01</td>\n",
       "      <td>7.257959e-01</td>\n",
       "      <td>8.458464e-01</td>\n",
       "      <td>1.000000</td>\n",
       "      <td>0.000000</td>\n",
       "      <td>9.498488e-01</td>\n",
       "      <td>9.952301e-01</td>\n",
       "      <td>8.064301e-01</td>\n",
       "      <td>1.567631e+00</td>\n",
       "    </tr>\n",
       "    <tr>\n",
       "      <th>max</th>\n",
       "      <td>2.571464e+00</td>\n",
       "      <td>2.347266e+00</td>\n",
       "      <td>3.028756e+00</td>\n",
       "      <td>1.519012e+00</td>\n",
       "      <td>1.000000</td>\n",
       "      <td>1.000000</td>\n",
       "      <td>1.661774e+00</td>\n",
       "      <td>1.494756e+00</td>\n",
       "      <td>1.417329e+00</td>\n",
       "      <td>1.567631e+00</td>\n",
       "    </tr>\n",
       "  </tbody>\n",
       "</table>\n",
       "</div>"
      ],
      "text/plain": [
       "        num__temp_C  num__dewpoint_C  num__slp_hPa  num__wind_dir_deg  \\\n",
       "count  8.495000e+03     8.495000e+03  8.495000e+03       8.495000e+03   \n",
       "mean   8.029677e-17     4.182123e-17  2.970980e-15      -7.360537e-17   \n",
       "std    1.000059e+00     1.000059e+00  1.000059e+00       1.000059e+00   \n",
       "min   -3.002637e+00    -3.394120e+00 -2.868419e+00      -1.846816e+00   \n",
       "25%   -8.337260e-01    -7.368357e-01 -6.852662e-01      -9.813172e-01   \n",
       "50%   -9.539888e-03    -2.088343e-02 -1.261662e-01       3.650139e-01   \n",
       "75%    7.604234e-01     8.327520e-01  7.257959e-01       8.458464e-01   \n",
       "max    2.571464e+00     2.347266e+00  3.028756e+00       1.519012e+00   \n",
       "\n",
       "       cat__sky_cover_0  cat__sky_cover_1  dt__dt__hour   dt__dt__dow  \\\n",
       "count       8495.000000       8495.000000  8.495000e+03  8.495000e+03   \n",
       "mean           0.780224          0.007416 -6.963235e-17 -8.029677e-17   \n",
       "std            0.414119          0.085802  1.000059e+00  1.000059e+00   \n",
       "min            0.000000          0.000000 -1.613084e+00 -1.502400e+00   \n",
       "25%            1.000000          0.000000 -9.011579e-01 -1.002874e+00   \n",
       "50%            1.000000          0.000000 -4.684714e-02 -3.822154e-03   \n",
       "75%            1.000000          0.000000  9.498488e-01  9.952301e-01   \n",
       "max            1.000000          1.000000  1.661774e+00  1.494756e+00   \n",
       "\n",
       "       dt__dt__month  dt__dt__is_weekend  \n",
       "count   8.495000e+03        8.495000e+03  \n",
       "mean   -1.070624e-16       -6.942325e-17  \n",
       "std     1.000059e+00        1.000059e+00  \n",
       "min    -1.942616e+00       -6.379050e-01  \n",
       "25%    -7.208179e-01       -6.379050e-01  \n",
       "50%     1.955309e-01       -6.379050e-01  \n",
       "75%     8.064301e-01        1.567631e+00  \n",
       "max     1.417329e+00        1.567631e+00  "
      ]
     },
     "execution_count": 114,
     "metadata": {},
     "output_type": "execute_result"
    }
   ],
   "source": [
    "X_train.describe()"
   ]
  },
  {
   "cell_type": "code",
   "execution_count": 115,
   "id": "9d849d24",
   "metadata": {},
   "outputs": [],
   "source": [
    "pipeline = Pipeline(steps=[('regressor', LinearRegression())])"
   ]
  },
  {
   "cell_type": "code",
   "execution_count": 116,
   "id": "b5a20fad",
   "metadata": {},
   "outputs": [
    {
     "name": "stdout",
     "output_type": "stream",
     "text": [
      "0       51.445213\n",
      "1        4.155905\n",
      "2        2.686866\n",
      "3        2.109964\n",
      "4        2.770088\n",
      "          ...    \n",
      "8490    15.906068\n",
      "8491    14.350314\n",
      "8492    16.194435\n",
      "8493    16.287197\n",
      "8494    18.220762\n",
      "Name: target, Length: 8495, dtype: float64\n"
     ]
    }
   ],
   "source": [
    "print(folds[\"fold_1\"][\"y_train\"])"
   ]
  },
  {
   "cell_type": "code",
   "execution_count": 117,
   "id": "b20ff555",
   "metadata": {},
   "outputs": [
    {
     "name": "stdout",
     "output_type": "stream",
     "text": [
      "Processing fold_1...\n",
      "Test MSE for fold_1: 504.58\n",
      "Processing fold_2...\n",
      "Test MSE for fold_2: 437.18\n"
     ]
    }
   ],
   "source": [
    "for fold_name, d in folds.items():\n",
    "    print(f\"Processing {fold_name}...\")\n",
    "\n",
    "    X_train = d[\"X_train\"].select_dtypes(include=np.number).copy()\n",
    "    X_test  = d[\"X_test\"].select_dtypes(include=np.number).copy()\n",
    "    y_train = pd.to_numeric(d[\"y_train\"], errors=\"coerce\").squeeze()\n",
    "    y_test  = pd.to_numeric(d[\"y_test\"],  errors=\"coerce\").squeeze()\n",
    "\n",
    "    pipeline.fit(X_train, y_train)\n",
    "\n",
    "    y_pred = pipeline.predict(X_test)\n",
    "\n",
    "    mse = mean_squared_error(y_test, y_pred)\n",
    "    print(f\"Test MSE for {fold_name}: {mse:.2f}\")"
   ]
  },
  {
   "cell_type": "code",
   "execution_count": 118,
   "id": "da8772d5",
   "metadata": {},
   "outputs": [
    {
     "name": "stdout",
     "output_type": "stream",
     "text": [
      "Processing fold_1...\n",
      "Feature importance for fold_1:/n              feature  importance\n",
      "3   num__wind_dir_deg    0.203653\n",
      "2        num__slp_hPa    0.198319\n",
      "6        dt__dt__hour    0.146819\n",
      "1     num__dewpoint_C    0.120307\n",
      "8       dt__dt__month    0.115410\n",
      "0         num__temp_C    0.096485\n",
      "4    cat__sky_cover_0    0.044310\n",
      "7         dt__dt__dow    0.042143\n",
      "5    cat__sky_cover_1    0.024001\n",
      "9  dt__dt__is_weekend    0.008553\n",
      "Top features for fold_1:/n['num__wind_dir_deg', 'num__slp_hPa', 'dt__dt__hour', 'num__dewpoint_C', 'dt__dt__month', 'num__temp_C', 'cat__sky_cover_0', 'dt__dt__dow', 'cat__sky_cover_1', 'dt__dt__is_weekend']\n",
      "Selected features for fold_1:/nIndex(['num__temp_C', 'num__dewpoint_C', 'num__slp_hPa', 'num__wind_dir_deg',\n",
      "       'cat__sky_cover_0', 'cat__sky_cover_1', 'dt__dt__hour', 'dt__dt__dow',\n",
      "       'dt__dt__month', 'dt__dt__is_weekend'],\n",
      "      dtype='object')\n",
      "PCA reduced 10 features to 7 components\n",
      "\n",
      "Feature Selection Comparison:\n",
      "Statistical selection: 10 features\n",
      "Importance-based: 10 features\n",
      "RFE: 10 features\n",
      "PCA: 7 components\n",
      "Processing fold_2...\n",
      "Feature importance for fold_2:/n              feature  importance\n",
      "2        num__slp_hPa    0.198874\n",
      "8       dt__dt__month    0.180943\n",
      "6        dt__dt__hour    0.172225\n",
      "1     num__dewpoint_C    0.161684\n",
      "0         num__temp_C    0.110623\n",
      "3   num__wind_dir_deg    0.077713\n",
      "7         dt__dt__dow    0.050845\n",
      "4    cat__sky_cover_0    0.020963\n",
      "5    cat__sky_cover_1    0.015672\n",
      "9  dt__dt__is_weekend    0.010457\n",
      "Top features for fold_2:/n['num__slp_hPa', 'dt__dt__month', 'dt__dt__hour', 'num__dewpoint_C', 'num__temp_C', 'num__wind_dir_deg', 'dt__dt__dow', 'cat__sky_cover_0', 'cat__sky_cover_1', 'dt__dt__is_weekend']\n",
      "Selected features for fold_2:/nIndex(['num__temp_C', 'num__dewpoint_C', 'num__slp_hPa', 'num__wind_dir_deg',\n",
      "       'cat__sky_cover_0', 'cat__sky_cover_1', 'dt__dt__hour', 'dt__dt__dow',\n",
      "       'dt__dt__month', 'dt__dt__is_weekend'],\n",
      "      dtype='object')\n",
      "PCA reduced 10 features to 7 components\n",
      "\n",
      "Feature Selection Comparison:\n",
      "Statistical selection: 10 features\n",
      "Importance-based: 10 features\n",
      "RFE: 10 features\n",
      "PCA: 7 components\n"
     ]
    }
   ],
   "source": [
    "for fold_name, d in folds.items():\n",
    "    print(f\"Processing {fold_name}...\")\n",
    "\n",
    "    X_train = d[\"X_train\"].select_dtypes(include=np.number).copy()\n",
    "    X_test  = d[\"X_test\"].select_dtypes(include=np.number).copy()\n",
    "    y_train = pd.to_numeric(d[\"y_train\"], errors=\"coerce\").squeeze()\n",
    "    y_test  = pd.to_numeric(d[\"y_test\"],  errors=\"coerce\").squeeze()\n",
    "\n",
    "    # Statistical selection (correlation-based)*\n",
    "    selector = SelectKBest(score_func=f_regression, k=10)\n",
    "    X_selected = selector.fit_transform(X_train, y_train)\n",
    "    selected_features = X_train.columns[selector.get_support()]\n",
    "\n",
    "    # Model-based selection*\n",
    "    rf = RandomForestRegressor(n_estimators=100, random_state=42)\n",
    "    rf.fit(X_train, y_train)\n",
    "\n",
    "    # Get feature importances*\n",
    "    feature_importance = pd.DataFrame({\n",
    "        'feature': X_train.columns,\n",
    "        'importance': rf.feature_importances_\n",
    "    }).sort_values('importance', ascending=False)\n",
    "\n",
    "    print(f\"Feature importance for {fold_name}:/n{feature_importance}\")\n",
    "\n",
    "    # Select top features*\n",
    "    top_features = feature_importance.head(10)['feature'].tolist()\n",
    "    X_top = X_train[top_features]\n",
    "\n",
    "    print(f\"Top features for {fold_name}:/n{top_features}\")\n",
    "\n",
    "    # Recursive feature elimination*\n",
    "    rfe = RFE(estimator=LinearRegression(), n_features_to_select=10)\n",
    "    X_rfe = rfe.fit_transform(X_train, y_train)\n",
    "    selected_features_rfe = X_train.columns[rfe.support_]\n",
    "\n",
    "    print(f\"Selected features for {fold_name}:/n{selected_features_rfe}\")\n",
    "\n",
    "    # PCA for dimensionality reduction*\n",
    "    pca = PCA(n_components=0.95)  # Keep 95% of variance\n",
    "    X_pca = pca.fit_transform(X_train)\n",
    "    print(f\"PCA reduced {X_train.shape[1]} features to {X_pca.shape[1]} components\")\n",
    "\n",
    "    # Compare methods*\n",
    "    print(\"\\nFeature Selection Comparison:\")\n",
    "    print(f\"Statistical selection: {len(selected_features)} features\")\n",
    "    print(f\"Importance-based: {len(top_features)} features\")\n",
    "    print(f\"RFE: {len(selected_features_rfe)} features\")\n",
    "    print(f\"PCA: {X_pca.shape[1]} components\")"
   ]
  },
  {
   "cell_type": "code",
   "execution_count": 119,
   "id": "dcf877f4",
   "metadata": {},
   "outputs": [
    {
     "name": "stdout",
     "output_type": "stream",
     "text": [
      "Score: -0.367\n"
     ]
    }
   ],
   "source": [
    "model = LinearRegression()\n",
    "model.fit(X_train, y_train)\n",
    "print(f\"Score: {model.score(X_test, y_test):.3f}\")"
   ]
  },
  {
   "cell_type": "code",
   "execution_count": 120,
   "id": "9dbc43d9",
   "metadata": {},
   "outputs": [
    {
     "name": "stdout",
     "output_type": "stream",
     "text": [
      "              feature     impact\n",
      "5    cat__sky_cover_1  16.392457\n",
      "6        dt__dt__hour   9.068334\n",
      "4    cat__sky_cover_0  -7.523477\n",
      "0         num__temp_C  -7.044366\n",
      "9  dt__dt__is_weekend  -4.814840\n",
      "8       dt__dt__month  -2.883428\n",
      "2        num__slp_hPa   2.023864\n",
      "3   num__wind_dir_deg  -1.959916\n",
      "1     num__dewpoint_C   1.586127\n",
      "7         dt__dt__dow   1.096788\n"
     ]
    }
   ],
   "source": [
    "# View coefficients*\n",
    "coefs = pd.DataFrame({'feature': X_train.columns, 'impact': model.coef_})\n",
    "print(coefs.sort_values('impact', key=abs, ascending=False))"
   ]
  },
  {
   "cell_type": "code",
   "execution_count": 121,
   "id": "71cb929e",
   "metadata": {},
   "outputs": [
    {
     "data": {
      "image/png": "[encoded data removed]",
      "text/plain": [
       "<Figure size 640x480 with 1 Axes>"
      ]
     },
     "metadata": {},
     "output_type": "display_data"
    }
   ],
   "source": [
    "residuals = y_test - model.predict(X_test)\n",
    "plt.scatter(model.predict(X_test), residuals)\n",
    "plt.axhline(0, color='red', linestyle='--')\n",
    "plt.show()"
   ]
  },
  {
   "cell_type": "code",
   "execution_count": 122,
   "id": "b28cae5d",
   "metadata": {},
   "outputs": [
    {
     "name": "stdout",
     "output_type": "stream",
     "text": [
      "Best alpha: 10.0\n"
     ]
    }
   ],
   "source": [
    "ridge = Ridge(alpha=1.0)  # alpha controls penalty strength\n",
    "lasso = Lasso(alpha=0.1)\n",
    "ridge = RidgeCV(alphas=[0.1, 1, 10])  # Auto-selects best alpha\n",
    "ridge.fit(X_train, y_train)\n",
    "print(f\"Best alpha: {ridge.alpha_}\")"
   ]
  },
  {
   "cell_type": "code",
   "execution_count": 123,
   "id": "943726d2",
   "metadata": {},
   "outputs": [
    {
     "name": "stdout",
     "output_type": "stream",
     "text": [
      "Selected: ['num__temp_C', 'num__slp_hPa', 'num__wind_dir_deg', 'cat__sky_cover_0', 'dt__dt__hour', 'dt__dt__month', 'dt__dt__is_weekend']\n"
     ]
    }
   ],
   "source": [
    "lasso = LassoCV(cv=5)\n",
    "lasso.fit(X_train, y_train)\n",
    "selected_features = X_train.columns[lasso.coef_ != 0]\n",
    "print(f\"Selected: {list(selected_features)}\")"
   ]
  },
  {
   "cell_type": "code",
   "execution_count": 124,
   "id": "35b92ac4",
   "metadata": {},
   "outputs": [
    {
     "name": "stdout",
     "output_type": "stream",
     "text": [
      "Best alpha: {'alpha': 10}\n"
     ]
    }
   ],
   "source": [
    "grid = GridSearchCV(Ridge(), {'alpha': [0.1, 1, 10]}, cv=5)\n",
    "grid.fit(X_train, y_train)\n",
    "print(f\"Best alpha: {grid.best_params_}\")"
   ]
  },
  {
   "cell_type": "code",
   "execution_count": 125,
   "id": "5e1e37d7",
   "metadata": {},
   "outputs": [
    {
     "name": "stdout",
     "output_type": "stream",
     "text": [
      "Processing fold_1...\n",
      "Linear: 0.089\n",
      "Ridge: 0.093\n",
      "Lasso: 0.107\n",
      "Processing fold_2...\n",
      "Linear: 0.116\n",
      "Ridge: 0.117\n",
      "Lasso: 0.129\n"
     ]
    }
   ],
   "source": [
    "models = {'Linear': LinearRegression(), 'Ridge': RidgeCV(), 'Lasso': LassoCV()}\n",
    "for fold_name, d in folds.items():\n",
    "    print(f\"Processing {fold_name}...\")\n",
    "\n",
    "    X_train = d[\"X_train\"].select_dtypes(include=np.number).copy()\n",
    "    X_test  = d[\"X_test\"].select_dtypes(include=np.number).copy()\n",
    "    y_train = pd.to_numeric(d[\"y_train\"], errors=\"coerce\").squeeze()\n",
    "    y_test  = pd.to_numeric(d[\"y_test\"],  errors=\"coerce\").squeeze()\n",
    "    for name, model in models.items():\n",
    "        score = cross_val_score(model, X_train, y_train, cv=5).mean()\n",
    "        print(f\"{name}: {score:.3f}\")"
   ]
  },
  {
   "cell_type": "code",
   "execution_count": 126,
   "id": "5bb537f2",
   "metadata": {},
   "outputs": [
    {
     "data": {
      "image/png": "[encoded data removed]",
      "text/plain": [
       "<Figure size 640x480 with 1 Axes>"
      ]
     },
     "metadata": {},
     "output_type": "display_data"
    }
   ],
   "source": [
    "train_sizes, train_scores, val_scores = learning_curve(model, X_train, y_train, cv=5)\n",
    "plt.plot(train_sizes, train_scores.mean(axis=1), label='Train')\n",
    "plt.plot(train_sizes, val_scores.mean(axis=1), label='Validation')\n",
    "plt.legend()\n",
    "plt.show()"
   ]
  },
  {
   "cell_type": "code",
   "execution_count": 128,
   "id": "da147c1f",
   "metadata": {},
   "outputs": [
    {
     "name": "stdout",
     "output_type": "stream",
     "text": [
      "Model Results:\n",
      "R² Score: -0.367\n",
      "Intercept: 48.575\n",
      "Coefficients: [-7.04436593  1.58612707  2.02386428 -1.95991603 -7.52347667 16.39245681\n",
      "  9.0683343   1.09678831 -2.88342835 -4.81483972]\n"
     ]
    }
   ],
   "source": [
    "model = LinearRegression()\n",
    "model.fit(X_train, y_train)\n",
    "\n",
    "print(\"Model Results:\")\n",
    "print(f\"R² Score: {model.score(X_test, y_test):.3f}\")\n",
    "print(f\"Intercept: {model.intercept_:.3f}\")\n",
    "print(f\"Coefficients: {model.coef_}\")"
   ]
  },
  {
   "cell_type": "code",
   "execution_count": 129,
   "id": "0da73159",
   "metadata": {},
   "outputs": [
    {
     "name": "stdout",
     "output_type": "stream",
     "text": [
      "Residual Analysis:\n",
      "Average residual: -11.892\n",
      "Largest error: 124.382\n",
      "Standard deviation: 17.199\n"
     ]
    }
   ],
   "source": [
    "predictions = model.predict(X_test)\n",
    "residuals = y_test - predictions\n",
    "\n",
    "print(\"Residual Analysis:\")\n",
    "print(f\"Average residual: {residuals.mean():.3f}\")\n",
    "print(f\"Largest error: {abs(residuals).max():.3f}\")\n",
    "print(f\"Standard deviation: {residuals.std():.3f}\")"
   ]
  },
  {
   "cell_type": "code",
   "execution_count": 130,
   "id": "c760fe9f",
   "metadata": {},
   "outputs": [
    {
     "name": "stdout",
     "output_type": "stream",
     "text": [
      "R-squared: -0.367\n",
      "Model explains -36.7% of the variation\n",
      "❌ Needs improvement\n"
     ]
    }
   ],
   "source": [
    "r2 = model.score(X_test, y_test)\n",
    "\n",
    "print(f\"R-squared: {r2:.3f}\")\n",
    "print(f\"Model explains {r2*100:.1f}% of the variation\")\n",
    "\n",
    "if r2 > 0.7:\n",
    "    print(\"✅ Good model!\")\n",
    "elif r2 > 0.5:\n",
    "    print(\"⚠️ Okay model\")\n",
    "else:\n",
    "    print(\"❌ Needs improvement\")"
   ]
  },
  {
   "cell_type": "code",
   "execution_count": 131,
   "id": "3054a12f",
   "metadata": {},
   "outputs": [
    {
     "data": {
      "image/png": "[encoded data removed]",
      "text/plain": [
       "<Figure size 1000x400 with 2 Axes>"
      ]
     },
     "metadata": {},
     "output_type": "display_data"
    }
   ],
   "source": [
    "# Simple diagnostic plots\n",
    "predictions = model.predict(X_test)\n",
    "residuals = y_test - predictions\n",
    "\n",
    "# Plot 1: Actual vs Predicted\n",
    "plt.figure(figsize=(10, 4))\n",
    "\n",
    "plt.subplot(1, 2, 1)\n",
    "plt.scatter(y_test, predictions)\n",
    "plt.plot([y_test.min(), y_test.max()], [y_test.min(), y_test.max()], 'r--')\n",
    "plt.xlabel('Actual')\n",
    "plt.ylabel('Predicted')\n",
    "plt.title('Actual vs Predicted')\n",
    "\n",
    "# Plot 2: Residuals\n",
    "plt.subplot(1, 2, 2)\n",
    "plt.scatter(predictions, residuals)\n",
    "plt.axhline(y=0, color='r', linestyle='--')\n",
    "plt.xlabel('Predicted')\n",
    "plt.ylabel('Residuals')\n",
    "plt.title('Residual Plot')\n",
    "\n",
    "plt.tight_layout()\n",
    "plt.show()"
   ]
  },
  {
   "cell_type": "code",
   "execution_count": 132,
   "id": "a275c06c",
   "metadata": {},
   "outputs": [
    {
     "name": "stdout",
     "output_type": "stream",
     "text": [
      "MODEL EXPLANATION FOR STAKEHOLDERS\n",
      "========================================\n",
      "Model accuracy: -37%\n",
      "\n",
      "Key findings:\n",
      "• Marketing_Budget: $-7 impact per unit increase\n",
      "• Competition: +$2 impact per unit increase\n",
      "• Season: +$2 impact per unit increase\n",
      "\n",
      "Typical prediction error: ±$17\n"
     ]
    }
   ],
   "source": [
    "features = ['Marketing_Budget', 'Competition', 'Season']\n",
    "coefficients = model.coef_\n",
    "\n",
    "print(\"MODEL EXPLANATION FOR STAKEHOLDERS\")\n",
    "print(\"=\"*40)\n",
    "print(f\"Model accuracy: {model.score(X_test, y_test)*100:.0f}%\")\n",
    "print(\"\\nKey findings:\")\n",
    "\n",
    "for feature, coef in zip(features, coefficients):\n",
    "    if coef > 0:\n",
    "        print(f\"• {feature}: +${coef:.0f} impact per unit increase\")\n",
    "    else:\n",
    "        print(f\"• {feature}: ${coef:.0f} impact per unit increase\")\n",
    "\n",
    "print(f\"\\nTypical prediction error: ±${abs(residuals).mean():.0f}\")"
   ]
  },
  {
   "cell_type": "code",
   "execution_count": 133,
   "id": "0e8ff81e",
   "metadata": {},
   "outputs": [
    {
     "name": "stdout",
     "output_type": "stream",
     "text": [
      "ASSUMPTION CHECKS\n",
      "====================\n",
      "⚠️ May need non-linear terms\n",
      "⚠️ Model may be biased\n",
      "⚠️ Many outliers - check data quality\n"
     ]
    }
   ],
   "source": [
    "# Simple assumption checks*\n",
    "predictions = model.predict(X_test)\n",
    "residuals = y_test - predictions\n",
    "\n",
    "print(\"ASSUMPTION CHECKS\")\n",
    "print(\"=\"*20)\n",
    "\n",
    "# Check 1: Linear relationship\n",
    "correlation = np.corrcoef(predictions, residuals)[0, 1]\n",
    "if abs(correlation) < 0.1:\n",
    "    print(\"✅ Linear relationship looks good\")\n",
    "else:\n",
    "    print(\"⚠️ May need non-linear terms\")\n",
    "\n",
    "# Check 2: Residual distribution\n",
    "if abs(residuals.mean()) < 0.1:\n",
    "    print(\"✅ Residuals centered at zero\")\n",
    "else:\n",
    "    print(\"⚠️ Model may be biased\")\n",
    "\n",
    "# Check 3: Outliers\n",
    "outlier_count = sum(abs(residuals) > 2 * residuals.std())\n",
    "if outlier_count < len(residuals) * 0.05:\n",
    "    print(\"✅ Few outliers detected\")\n",
    "else:\n",
    "    print(\"⚠️ Many outliers - check data quality\")"
   ]
  },
  {
   "cell_type": "code",
   "execution_count": 134,
   "id": "f4185c98",
   "metadata": {},
   "outputs": [
    {
     "name": "stdout",
     "output_type": "stream",
     "text": [
      "CROSS-VALIDATION RESULTS\n",
      "==============================\n",
      "Individual scores: [0.25667892 0.03664781 0.05313626 0.11865856 0.11407236]\n",
      "Average score: 0.116\n",
      "Standard deviation: 0.078\n",
      "✅ Model performance is consistent\n",
      "⚠️ Performance needs improvement\n"
     ]
    }
   ],
   "source": [
    "# Test model on different data subsets\n",
    "cv_scores = cross_val_score(model, X_train, y_train, cv=5)\n",
    "\n",
    "print(\"CROSS-VALIDATION RESULTS\")\n",
    "print(\"=\"*30)\n",
    "print(f\"Individual scores: {cv_scores}\")\n",
    "print(f\"Average score: {cv_scores.mean():.3f}\")\n",
    "print(f\"Standard deviation: {cv_scores.std():.3f}\")\n",
    "\n",
    "# Interpretation\n",
    "if cv_scores.std() < 0.1:\n",
    "    print(\"✅ Model performance is consistent\")\n",
    "else:\n",
    "    print(\"⚠️ Model performance varies significantly\")\n",
    "\n",
    "if cv_scores.mean() > 0.7:\n",
    "    print(\"✅ Good average performance\")\n",
    "else:\n",
    "    print(\"⚠️ Performance needs improvement\")"
   ]
  },
  {
   "cell_type": "code",
   "execution_count": 135,
   "id": "2b09cc02",
   "metadata": {},
   "outputs": [],
   "source": [
    "# Simple monitoring setup\n",
    "def monitor_model(model, new_X, new_y):\n",
    "    \"\"\"Monitor model performance on new data\"\"\"\n",
    "    predictions = model.predict(new_X)\n",
    "    current_r2 = model.score(new_X, new_y)\n",
    "    residuals = new_y - predictions\n",
    "    \n",
    "    print(\"MODEL MONITORING REPORT\")\n",
    "    print(\"=\"*30)\n",
    "    print(f\"Current R²: {current_r2:.3f}\")\n",
    "    print(f\"Average error: {abs(residuals).mean():.3f}\")\n",
    "    print(f\"Max error: {abs(residuals).max():.3f}\")\n",
    "    \n",
    "    # Alert thresholds\n",
    "    if current_r2 < 0.5:\n",
    "        print(\"🚨 ALERT: Model performance degraded\")\n",
    "    elif current_r2 < 0.7:\n",
    "        print(\"⚠️ WARNING: Monitor closely\")\n",
    "    else:\n",
    "        print(\"✅ Model performing well\")\n",
    "    \n",
    "    return current_r2, residuals.mean()"
   ]
  },
  {
   "cell_type": "code",
   "execution_count": 136,
   "id": "aedef0a2",
   "metadata": {},
   "outputs": [],
   "source": [
    "# Complete model review function\n",
    "def complete_model_review(model, X_test, y_test, feature_names):\n",
    "    \"\"\"Run complete model review\"\"\"\n",
    "    print(\"COMPLETE MODEL REVIEW\")\n",
    "    print(\"=\"*40)\n",
    "    \n",
    "    # Performance\n",
    "    r2 = model.score(X_test, y_test)\n",
    "    predictions = model.predict(X_test)\n",
    "    residuals = y_test - predictions\n",
    "    \n",
    "    print(f\"1. Performance: R² = {r2:.3f}\")\n",
    "    \n",
    "    # Coefficients\n",
    "    print(\"2. Coefficients:\")\n",
    "    for name, coef in zip(feature_names, model.coef_):\n",
    "        print(f\"   {name}: {coef:.3f}\")\n",
    "    \n",
    "    # Residuals\n",
    "    print(f\"3. Residuals: Mean = {residuals.mean():.3f}\")\n",
    "    \n",
    "    # Outliers\n",
    "    outliers = sum(abs(residuals) > 2 * residuals.std())\n",
    "    print(f\"4. Outliers: {outliers} found\")\n",
    "    \n",
    "    # Overall assessment\n",
    "    print(\"\\n5. OVERALL ASSESSMENT:\")\n",
    "    if r2 > 0.7 and abs(residuals.mean()) < 0.1:\n",
    "        print(\"   ✅ Model ready for use\")\n",
    "    else:\n",
    "        print(\"   ⚠️ Model needs improvement\")\n",
    "\n",
    "# Example usage# complete_model_review(model, X_test, y_test, ['Feature1', 'Feature2'])"
   ]
  },
  {
   "cell_type": "code",
   "execution_count": null,
   "id": "066d8fba",
   "metadata": {},
   "outputs": [],
   "source": []
  }
 ],
 "metadata": {
  "kernelspec": {
   "display_name": "Python 3 (ipykernel)",
   "language": "python",
   "name": "python3"
  },
  "language_info": {
   "codemirror_mode": {
    "name": "ipython",
    "version": 3
   },
   "file_extension": ".py",
   "mimetype": "text/x-python",
   "name": "python",
   "nbconvert_exporter": "python",
   "pygments_lexer": "ipython3",
   "version": "3.13.4"
  }
 },
 "nbformat": 4,
 "nbformat_minor": 5
}
