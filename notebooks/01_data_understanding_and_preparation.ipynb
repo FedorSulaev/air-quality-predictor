{
 "cells": [
  {
   "cell_type": "code",
   "execution_count": null,
   "id": "7bdd9b0f",
   "metadata": {},
   "outputs": [
    {
     "name": "stdout",
     "output_type": "stream",
     "text": [
      "Exact duplicates found: 0\n",
      "Total rows involved in duplication: 0\n",
      "Duplicates based on sensor and time: 0\n"
     ]
    }
   ],
   "source": [
    "import pandas as pd\n",
    "\n",
    "# Load your dataset\n",
    "df = pd.read_csv('data/raw/combined_iasi_no2_meteo_2020_2025_local.csv')\n",
    "\n",
    "# Check for exact duplicates across all columns\n",
    "exact_duplicates = df.duplicated().sum()\n",
    "print(f\"Exact duplicates found: {exact_duplicates}\")\n",
    "\n",
    "# View duplicate rows\n",
    "duplicate_rows = df[df.duplicated(keep=False)]\n",
    "print(f\"Total rows involved in duplication: {len(duplicate_rows)}\")\n",
    "\n",
    "# Check duplicates on specific key columns\n",
    "key_duplicates = df.duplicated(subset=['datetime']).sum()\n",
    "print(f\"Duplicates based on time: {key_duplicates}\")"
   ]
  },
  {
   "cell_type": "code",
   "execution_count": 3,
   "id": "91b1a373",
   "metadata": {},
   "outputs": [
    {
     "name": "stdout",
     "output_type": "stream",
     "text": [
      "Duplicate key patterns:\n",
      "Series([], dtype: int64)\n"
     ]
    }
   ],
   "source": [
    "# Remove exact duplicates (keep first occurrence)\n",
    "df_cleaned = df.drop_duplicates(keep='first')\n",
    "\n",
    "# For key-based duplicates, investigate first\n",
    "duplicate_keys = df[df.duplicated(subset=['datetime'], keep=False)]\n",
    "print(\"Duplicate key patterns:\")\n",
    "print(duplicate_keys.groupby(['datetime']).size().sort_values(ascending=False))\n",
    "\n",
    "# Remove duplicates based on key columns after investigation\n",
    "df_cleaned = df.drop_duplicates(subset=['datetime'], keep='first')"
   ]
  },
  {
   "cell_type": "code",
   "execution_count": 5,
   "id": "793f43cb",
   "metadata": {},
   "outputs": [],
   "source": [
    "with open('outputs/logs/data_cleaning_log.txt', 'w') as f:\n",
    "    f.write(f\"Duplicate removal on {pd.Timestamp.now()}\\n\")\n",
    "    f.write(f\"Original dataset: {len(df)} rows\\n\")\n",
    "    f.write(f\"Exact duplicates removed: {exact_duplicates}\\n\")\n",
    "    f.write(f\"Key-based duplicates removed: {key_duplicates}\\n\")\n",
    "    f.write(f\"Final dataset: {len(df_cleaned)} rows\\n\")"
   ]
  },
  {
   "cell_type": "code",
   "execution_count": null,
   "id": "17c85560",
   "metadata": {},
   "outputs": [],
   "source": []
  }
 ],
 "metadata": {
  "kernelspec": {
   "display_name": "Python 3 (ipykernel)",
   "language": "python",
   "name": "python3"
  },
  "language_info": {
   "codemirror_mode": {
    "name": "ipython",
    "version": 3
   },
   "file_extension": ".py",
   "mimetype": "text/x-python",
   "name": "python",
   "nbconvert_exporter": "python",
   "pygments_lexer": "ipython3",
   "version": "3.13.4"
  }
 },
 "nbformat": 4,
 "nbformat_minor": 5
}
